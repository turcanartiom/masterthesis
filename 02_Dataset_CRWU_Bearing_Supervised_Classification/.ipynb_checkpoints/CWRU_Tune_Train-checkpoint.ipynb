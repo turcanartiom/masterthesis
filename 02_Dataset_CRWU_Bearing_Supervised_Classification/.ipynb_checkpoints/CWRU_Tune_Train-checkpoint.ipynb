{
 "cells": [
  {
   "cell_type": "code",
   "execution_count": null,
   "id": "fa9c5d4e-9166-423b-b42b-a50ae319382c",
   "metadata": {},
   "outputs": [],
   "source": [
    "import scipy.io\n",
    "import matplotlib.pyplot as plt\n",
    "import numpy as np \n",
    "import pandas as pd\n",
    "\n",
    "from CWRU_preprocessing import *\n",
    "from CWRU_main import *"
   ]
  },
  {
   "cell_type": "code",
   "execution_count": null,
   "id": "4931808d-e8ba-4fec-94c1-b792a003761a",
   "metadata": {},
   "outputs": [],
   "source": [
    "HP = \"3\"\n",
    "\n",
    "path = \"CWRU/\" + HP + \"HP/\"\n",
    "df = load_mat_time_signals_to_df(path)\n",
    "data = preprocess_fft_pipeline(df)\n",
    "\n",
    "print(data[\"X_train_flat\"].shape)\n",
    "print(data[\"X_train_cnn\"].shape)\n",
    "print(data[\"y_train_cat\"].shape)\n",
    "print(\"Classes:\", list(data[\"label_encoder\"].classes_))"
   ]
  },
  {
   "cell_type": "code",
   "execution_count": null,
   "id": "64b2d760-faf0-423e-bd33-d55d5f23590e",
   "metadata": {},
   "outputs": [],
   "source": [
    "df"
   ]
  },
  {
   "cell_type": "code",
   "execution_count": null,
   "id": "7243a3b2-1d53-4e14-80ac-16fd51dec716",
   "metadata": {},
   "outputs": [],
   "source": [
    "X_train = data[\"X_train_flat\"]\n",
    "y_train = data[\"y_train_encoded\"]\n",
    "X_test = data[\"X_test_flat\"]\n",
    "y_test = data[\"y_test_encoded\"]\n",
    "\n",
    "X_train_cnn = data[\"X_train_cnn\"]\n",
    "y_train_cat = data[\"y_train_cat\"]\n",
    "X_test_cnn = data[\"X_test_cnn\"]\n",
    "y_test_cat = data[\"y_test_cat\"]"
   ]
  },
  {
   "cell_type": "code",
   "execution_count": null,
   "id": "6649a948-0b22-455d-aaa7-7473a41aa3e9",
   "metadata": {},
   "outputs": [],
   "source": [
    "N_ITER = 30\n",
    "CV = 5\n",
    "TEST_SIZE = 0.2\n",
    "\n",
    "# print(\"Tuning Random Forest...\")\n",
    "# rf_search = tune_model(\"rf\", X_scaled, y_encoded, n_iter=N_ITER, cv=CV)\n",
    "# rf_best_params = rf_search.best_params_\n",
    "\n",
    "# print(\"Tuning XGBoost...\")\n",
    "# xgb_search = tune_model(\"xgb\", X_scaled, y_encoded, n_iter=N_ITER, cv=CV)\n",
    "# xgb_best_params = xgb_search.best_params_\n",
    "\n",
    "# print(\"Tuning MLP...\")\n",
    "# mlp_search = tune_model(\"mlp\", X_scaled, y_encoded, n_iter=N_ITER, cv=CV)\n",
    "# mlp_best_params = mlp_search.best_params_\n",
    "\n",
    "# print(\"Tuning SVM...\")\n",
    "# svm_search = tune_model(\"svm\", X_train, y_train, n_iter=N_ITER, cv=CV)\n",
    "# svm_best_params = svm_search.best_params_"
   ]
  },
  {
   "cell_type": "code",
   "execution_count": null,
   "id": "67331b55-7930-435c-a1b1-1c0735411e15",
   "metadata": {},
   "outputs": [],
   "source": [
    "# # Trigger LSTM Tuning\n",
    "# # -----------------------------------\n",
    "# print(\"Starting LSTM hyperparameter tuning with Bayesian Optimization...\")\n",
    "# tuner, best_hp = tune_lstm(X_neural, y_categorical, 30, 1, 100)\n",
    "# print(\"Best hyperparameters:\", best_hp.values)"
   ]
  },
  {
   "cell_type": "code",
   "execution_count": null,
   "id": "79bb2724-e086-4800-85fb-e679bde5f2aa",
   "metadata": {},
   "outputs": [],
   "source": [
    "# Trigger CNN Tuning\n",
    "# -----------------------------------\n",
    "# print(\"Starting CNN hyperparameter tuning with Bayesian Optimization...\")\n",
    "# tuner, best_hp = tune_cnn(X_train_cnn, y_train_cat, 30, 1, 100)\n",
    "# print(\"Best hyperparameters:\", best_hp.values)"
   ]
  },
  {
   "cell_type": "code",
   "execution_count": null,
   "id": "a0c1eb65-2f92-46ef-93f6-86b786dc17e9",
   "metadata": {},
   "outputs": [],
   "source": [
    "# Step 2: Train and Evaluate using Best Params\n",
    "print(\"Evaluating Random Forest...\")\n",
    "train_and_evaluate_rf(X, y, test_size=TEST_SIZE, cv=CV, rf_params=rf_best_params)\n",
    "\n",
    "print(\"Evaluating XGBoost...\")\n",
    "train_and_evaluate_xgb(X, y, test_size=TEST_SIZE, cv=CV, xgb_params=xgb_best_params)\n",
    "\n",
    "print(\"Evaluating MLP...\")\n",
    "train_and_evaluate_mlp(X, y, test_size=TEST_SIZE, cv=CV, mlp_params=mlp_best_params)\n",
    "\n",
    "print(\"Evaluating SVM...\")\n",
    "train_and_evaluate_svm(X, y, test_size=TEST_SIZE, cv=CV, svm_params=svm_best_params)"
   ]
  },
  {
   "cell_type": "code",
   "execution_count": null,
   "id": "43fa3f5a-a79d-4dce-868c-8efd49336708",
   "metadata": {},
   "outputs": [],
   "source": [
    "best_hp = load_best_hyperparameters(\"tuner_results/0HP/lstm_tuning\", \"fault_classification_bayes\")\n",
    "print(\"Training and evaluating LSTM model with best hyperparameters...\")\n",
    "model = train_and_evaluate_lstm(X_neural, y_categorical, best_hp)"
   ]
  },
  {
   "cell_type": "code",
   "execution_count": null,
   "id": "74d51ce5-6fcd-4f9d-b522-c827a856cb21",
   "metadata": {},
   "outputs": [],
   "source": [
    "best_hp = load_best_hyperparameters(\"cnn_tuning\", \"cnn_fault_classification\")\n",
    "print(\"Training and evaluating CNN model with best hyperparameters...\")\n",
    "model = train_and_evaluate_lstm(X_neural, y_categorical, best_hp)"
   ]
  }
 ],
 "metadata": {
  "kernelspec": {
   "display_name": "Python 3 (ipykernel)",
   "language": "python",
   "name": "python3"
  },
  "language_info": {
   "codemirror_mode": {
    "name": "ipython",
    "version": 3
   },
   "file_extension": ".py",
   "mimetype": "text/x-python",
   "name": "python",
   "nbconvert_exporter": "python",
   "pygments_lexer": "ipython3",
   "version": "3.11.0"
  }
 },
 "nbformat": 4,
 "nbformat_minor": 5
}
