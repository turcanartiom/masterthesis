{
 "cells": [
  {
   "cell_type": "code",
   "execution_count": 1,
   "id": "fa9c5d4e-9166-423b-b42b-a50ae319382c",
   "metadata": {},
   "outputs": [],
   "source": [
    "import scipy.io\n",
    "import matplotlib.pyplot as plt\n",
    "import numpy as np \n",
    "import pandas as pd\n",
    "\n",
    "from CWRU_preprocessing import *"
   ]
  },
  {
   "cell_type": "code",
   "execution_count": 2,
   "id": "4931808d-e8ba-4fec-94c1-b792a003761a",
   "metadata": {},
   "outputs": [
    {
     "name": "stdout",
     "output_type": "stream",
     "text": [
      "Loaded: B007_2_X124_DE_time, shape[0] = 486804\n",
      "Loaded: B007_2_X124_FE_time, shape[0] = 486804\n",
      "Loaded: IR007_2_X111_DE_time, shape[0] = 485643\n",
      "Loaded: IR007_2_X111_FE_time, shape[0] = 485643\n",
      "Loaded: Normal_2_X098_DE_time, shape[0] = 483903\n",
      "Loaded: Normal_2_X098_FE_time, shape[0] = 483903\n",
      "Loaded: Normal_2_X099_DE_time, shape[0] = 485063\n",
      "Loaded: Normal_2_X099_FE_time, shape[0] = 485063\n",
      "Loaded: OR007@12_2_X163_DE_time, shape[0] = 483323\n",
      "Loaded: OR007@12_2_X163_FE_time, shape[0] = 483323\n",
      "Loaded: OR007@3_2_X150_DE_time, shape[0] = 485643\n",
      "Loaded: OR007@3_2_X150_FE_time, shape[0] = 485643\n",
      "Loaded: OR007@6_2_X137_DE_time, shape[0] = 486804\n",
      "Loaded: OR007@6_2_X137_FE_time, shape[0] = 486804\n"
     ]
    }
   ],
   "source": [
    "path = \"CWRU/2HP/\"\n",
    "df = load_mat_time_signals_to_df(path)"
   ]
  },
  {
   "cell_type": "code",
   "execution_count": 3,
   "id": "ce0f5d96-3257-468c-ab45-ec9df31150b1",
   "metadata": {},
   "outputs": [
    {
     "ename": "KeyboardInterrupt",
     "evalue": "",
     "output_type": "error",
     "traceback": [
      "\u001b[31m---------------------------------------------------------------------------\u001b[39m",
      "\u001b[31mKeyboardInterrupt\u001b[39m                         Traceback (most recent call last)",
      "\u001b[36mCell\u001b[39m\u001b[36m \u001b[39m\u001b[32mIn[3]\u001b[39m\u001b[32m, line 1\u001b[39m\n\u001b[32m----> \u001b[39m\u001b[32m1\u001b[39m window_df_original = \u001b[43mgenerate_windows_from_signals\u001b[49m\u001b[43m(\u001b[49m\u001b[43mdf\u001b[49m\u001b[43m,\u001b[49m\u001b[43m \u001b[49m\u001b[43mwindow_size\u001b[49m\u001b[43m=\u001b[49m\u001b[32;43m2048\u001b[39;49m\u001b[43m,\u001b[49m\u001b[43m \u001b[49m\u001b[43mstep\u001b[49m\u001b[43m=\u001b[49m\u001b[32;43m1024\u001b[39;49m\u001b[43m)\u001b[49m\n\u001b[32m      2\u001b[39m \u001b[38;5;28mprint\u001b[39m(window_df_original[\u001b[33m'\u001b[39m\u001b[33mlabel\u001b[39m\u001b[33m'\u001b[39m].value_counts())  \u001b[38;5;66;03m# See how many windows per fault\u001b[39;00m\n",
      "\u001b[36mFile \u001b[39m\u001b[32m~\\Desktop\\MASTER_THESIS_CODE\\02_Dataset_CRWU_Bearing_Supervised_Classification\\CWRU_preprocessing.py:50\u001b[39m, in \u001b[36mgenerate_windows_from_signals\u001b[39m\u001b[34m(df, window_size, step)\u001b[39m\n\u001b[32m     48\u001b[39m     \u001b[38;5;28;01mfor\u001b[39;00m i \u001b[38;5;129;01min\u001b[39;00m \u001b[38;5;28mrange\u001b[39m(\u001b[32m0\u001b[39m, \u001b[38;5;28mlen\u001b[39m(signal) - window_size + \u001b[32m1\u001b[39m, step):\n\u001b[32m     49\u001b[39m         window = signal[i:i + window_size]\n\u001b[32m---> \u001b[39m\u001b[32m50\u001b[39m         windowed_data.append(\u001b[43mnp\u001b[49m\u001b[43m.\u001b[49m\u001b[43mappend\u001b[49m\u001b[43m(\u001b[49m\u001b[43mwindow\u001b[49m\u001b[43m,\u001b[49m\u001b[43m \u001b[49m\u001b[43mlabel\u001b[49m\u001b[43m)\u001b[49m)\n\u001b[32m     52\u001b[39m \u001b[38;5;66;03m# Create column names: a1 to a2048, plus 'label'\u001b[39;00m\n\u001b[32m     53\u001b[39m feature_cols = [\u001b[33mf\u001b[39m\u001b[33m\"\u001b[39m\u001b[33ma\u001b[39m\u001b[38;5;132;01m{\u001b[39;00mi\u001b[38;5;132;01m}\u001b[39;00m\u001b[33m\"\u001b[39m \u001b[38;5;28;01mfor\u001b[39;00m i \u001b[38;5;129;01min\u001b[39;00m \u001b[38;5;28mrange\u001b[39m(\u001b[32m1\u001b[39m, window_size + \u001b[32m1\u001b[39m)] + [\u001b[33m\"\u001b[39m\u001b[33mlabel\u001b[39m\u001b[33m\"\u001b[39m]\n",
      "\u001b[36mFile \u001b[39m\u001b[32m~\\jupyter_env\\Lib\\site-packages\\numpy\\lib\\_function_base_impl.py:5692\u001b[39m, in \u001b[36mappend\u001b[39m\u001b[34m(arr, values, axis)\u001b[39m\n\u001b[32m   5690\u001b[39m     values = ravel(values)\n\u001b[32m   5691\u001b[39m     axis = arr.ndim-\u001b[32m1\u001b[39m\n\u001b[32m-> \u001b[39m\u001b[32m5692\u001b[39m \u001b[38;5;28;01mreturn\u001b[39;00m \u001b[43mconcatenate\u001b[49m\u001b[43m(\u001b[49m\u001b[43m(\u001b[49m\u001b[43marr\u001b[49m\u001b[43m,\u001b[49m\u001b[43m \u001b[49m\u001b[43mvalues\u001b[49m\u001b[43m)\u001b[49m\u001b[43m,\u001b[49m\u001b[43m \u001b[49m\u001b[43maxis\u001b[49m\u001b[43m=\u001b[49m\u001b[43maxis\u001b[49m\u001b[43m)\u001b[49m\n",
      "\u001b[31mKeyboardInterrupt\u001b[39m: "
     ]
    }
   ],
   "source": [
    "window_df_original = generate_windows_from_signals(df, window_size=2048, step=1024)\n",
    "print(window_df_original['label'].value_counts())  # See how many windows per fault"
   ]
  },
  {
   "cell_type": "code",
   "execution_count": null,
   "id": "87407683-e1f6-4cc9-99a1-6ec83e4bff8a",
   "metadata": {},
   "outputs": [],
   "source": [
    "window_df = balance_windows(window_df_original)\n",
    "\n",
    "# Confirm it's now balanced:\n",
    "print(window_df['label'].value_counts())"
   ]
  },
  {
   "cell_type": "code",
   "execution_count": null,
   "id": "d37d84b0-e94c-4b7d-a54b-566463e8bced",
   "metadata": {},
   "outputs": [],
   "source": [
    "from CWRU_main import *\n",
    "\n",
    "# Assume you have window_df with 'a1'...'a2048' and 'label'\n",
    "X = window_df.drop(columns=[\"label\"]).astype(np.float32).values\n",
    "y = window_df[\"label\"].values\n",
    "\n",
    "# Label encode\n",
    "le = LabelEncoder()\n",
    "y_encoded = le.fit_transform(y)\n",
    "y_categorical = to_categorical(y_encoded)  # Only needed for neural networks\n",
    "\n",
    "# Feature scaling\n",
    "scaler = StandardScaler()\n",
    "X_scaled = scaler.fit_transform(X)\n",
    "\n",
    "X_neural = X_scaled.reshape((X_scaled.shape[0], X_scaled.shape[1], 1))"
   ]
  },
  {
   "cell_type": "code",
   "execution_count": null,
   "id": "6649a948-0b22-455d-aaa7-7473a41aa3e9",
   "metadata": {},
   "outputs": [],
   "source": [
    "# N_ITER = 30\n",
    "# CV = 5\n",
    "# TEST_SIZE = 0.2\n",
    "\n",
    "# # Step 1: Tune Models\n",
    "# print(\"🔧 Tuning Random Forest...\")\n",
    "# rf_search = tune_model(\"rf\", X_scaled, y_encoded, n_iter=N_ITER, cv=CV)\n",
    "# rf_best_params = rf_search.best_params_\n",
    "\n",
    "# print(\"\\n🔧 Tuning XGBoost...\")\n",
    "# xgb_search = tune_model(\"xgb\", X_scaled, y_encoded, n_iter=N_ITER, cv=CV)\n",
    "# xgb_best_params = xgb_search.best_params_\n",
    "\n",
    "# print(\"\\n🔧 Tuning MLP...\")\n",
    "# mlp_search = tune_model(\"mlp\", X_scaled, y_encoded, n_iter=N_ITER, cv=CV)\n",
    "# mlp_best_params = mlp_search.best_params_\n",
    "\n",
    "# print(\"\\n🔧 Tuning SVM...\")\n",
    "# svm_search = tune_model(\"svm\", X_scaled, y_encoded, n_iter=N_ITER, cv=CV)\n",
    "# svm_best_params = svm_search.best_params_"
   ]
  },
  {
   "cell_type": "code",
   "execution_count": null,
   "id": "67331b55-7930-435c-a1b1-1c0735411e15",
   "metadata": {},
   "outputs": [],
   "source": [
    "# # Trigger LSTM Tuning\n",
    "# # -----------------------------------\n",
    "# print(\"\\n🔍 Starting LSTM hyperparameter tuning with Bayesian Optimization...\")\n",
    "# tuner, best_hp = tune_lstm(X_neural, y_categorical, 30, 1, 30)\n",
    "# print(\"\\n✅ Best hyperparameters:\", best_hp.values)"
   ]
  },
  {
   "cell_type": "code",
   "execution_count": null,
   "id": "79bb2724-e086-4800-85fb-e679bde5f2aa",
   "metadata": {},
   "outputs": [],
   "source": [
    "# Trigger CNN Tuning\n",
    "# -----------------------------------\n",
    "print(\"\\n🔍 Starting CNN hyperparameter tuning with Bayesian Optimization...\")\n",
    "tuner, best_hp = tune_cnn(X_neural, y_categorical, 30, 1, 30)\n",
    "print(\"\\n✅ Best hyperparameters:\", best_hp.values)"
   ]
  },
  {
   "cell_type": "code",
   "execution_count": null,
   "id": "a0c1eb65-2f92-46ef-93f6-86b786dc17e9",
   "metadata": {},
   "outputs": [],
   "source": [
    "# Step 2: Train and Evaluate using Best Params\n",
    "print(\"\\n🧪 Evaluating Random Forest...\")\n",
    "train_and_evaluate_rf(X, y, test_size=TEST_SIZE, cv=CV, rf_params=rf_best_params)\n",
    "\n",
    "print(\"\\n🧪 Evaluating XGBoost...\")\n",
    "train_and_evaluate_xgb(X, y, test_size=TEST_SIZE, cv=CV, xgb_params=xgb_best_params)\n",
    "\n",
    "print(\"\\n🧪 Evaluating MLP...\")\n",
    "train_and_evaluate_mlp(X, y, test_size=TEST_SIZE, cv=CV, mlp_params=mlp_best_params)\n",
    "\n",
    "print(\"\\n🧪 Evaluating SVM...\")\n",
    "train_and_evaluate_svm(X, y, test_size=TEST_SIZE, cv=CV, svm_params=svm_best_params)"
   ]
  },
  {
   "cell_type": "code",
   "execution_count": null,
   "id": "43fa3f5a-a79d-4dce-868c-8efd49336708",
   "metadata": {},
   "outputs": [],
   "source": [
    "best_hp = load_best_hyperparameters(\"lstm_tuning\", \"fault_classification_bayes\")\n",
    "print(\"\\n🚀 Training and evaluating LSTM model with best hyperparameters...\")\n",
    "model = train_and_evaluate_lstm(X_neural, y_categorical, best_hp)"
   ]
  },
  {
   "cell_type": "code",
   "execution_count": null,
   "id": "74d51ce5-6fcd-4f9d-b522-c827a856cb21",
   "metadata": {},
   "outputs": [],
   "source": [
    "best_hp = load_best_hyperparameters(\"cnn_tuning\", \"cnn_fault_classification\")\n",
    "print(\"\\n🚀 Training and evaluating CNN model with best hyperparameters...\")\n",
    "model = train_and_evaluate_lstm(X_neural, y_categorical, best_hp)"
   ]
  }
 ],
 "metadata": {
  "kernelspec": {
   "display_name": "Python 3 (ipykernel)",
   "language": "python",
   "name": "python3"
  },
  "language_info": {
   "codemirror_mode": {
    "name": "ipython",
    "version": 3
   },
   "file_extension": ".py",
   "mimetype": "text/x-python",
   "name": "python",
   "nbconvert_exporter": "python",
   "pygments_lexer": "ipython3",
   "version": "3.11.0"
  }
 },
 "nbformat": 4,
 "nbformat_minor": 5
}
