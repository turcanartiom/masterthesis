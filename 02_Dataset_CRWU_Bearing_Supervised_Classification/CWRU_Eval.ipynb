{
 "cells": [
  {
   "cell_type": "code",
   "execution_count": null,
   "id": "86b1ee05-55da-44a3-a483-91c1875a4e38",
   "metadata": {},
   "outputs": [],
   "source": [
    "from CWRU_main import *\n",
    "from CWRU_evaluation import *\n",
    "from CWRU_preprocessing import *"
   ]
  },
  {
   "cell_type": "code",
   "execution_count": null,
   "id": "84f5bbef-c08d-4805-9df8-2333723f0f1f",
   "metadata": {},
   "outputs": [],
   "source": [
    "HP = \"0\"\n",
    "\n",
    "N_ITER = 30\n",
    "CV = 5\n",
    "TEST_SIZE = 0.2\n",
    "\n",
    "N_REPEATS = 5"
   ]
  },
  {
   "cell_type": "code",
   "execution_count": null,
   "id": "aeb4c417-57fa-48f7-8975-6acf3f961499",
   "metadata": {
    "scrolled": true
   },
   "outputs": [],
   "source": [
    "# Data preprocessing steps\n",
    "\n",
    "from CWRU_preprocessing import *\n",
    "from sklearn.model_selection import train_test_split\n",
    "\n",
    "path = \"CWRU/\" + HP + \"HP/\"\n",
    "df = load_mat_time_signals_to_df(path)\n",
    "data = preprocess_time_pipeline(df)\n",
    "\n",
    "print(data[\"X_train_flat\"].shape)\n",
    "print(data[\"X_train_cnn\"].shape)\n",
    "print(data[\"y_train_cat\"].shape)\n",
    "print(\"Classes:\", list(data[\"label_encoder\"].classes_))"
   ]
  },
  {
   "cell_type": "code",
   "execution_count": null,
   "id": "669a6695-6117-4d3a-a360-0b0046d404bd",
   "metadata": {},
   "outputs": [],
   "source": [
    "X_train = data[\"X_train_flat\"]\n",
    "y_train = data[\"y_train_encoded\"]\n",
    "X_test = data[\"X_test_flat\"]\n",
    "y_test = data[\"y_test_encoded\"]\n",
    "\n",
    "X_train_cnn = data[\"X_train_cnn\"]\n",
    "y_train_cat = data[\"y_train_cat\"]\n",
    "X_test_cnn = data[\"X_test_cnn\"]\n",
    "y_test_cat = data[\"y_test_cat\"]\n",
    "le = data[\"label_encoder\"]"
   ]
  },
  {
   "cell_type": "code",
   "execution_count": null,
   "id": "7c5d15cf-d64a-47a0-b1c1-b90d27d4723c",
   "metadata": {},
   "outputs": [],
   "source": [
    "plot_tsne(\n",
    "    X=X_train,  # FFT feature space\n",
    "    y_encoded=y_train,\n",
    "    label_encoder=le,\n",
    "    title=\"t-SNE in Time-Domain\",\n",
    "    save_path=\"plots/0HP_tsne_fft_6classes.png\"\n",
    ")"
   ]
  },
  {
   "cell_type": "code",
   "execution_count": null,
   "id": "9d17f1a1-198b-49d0-92d4-4a1f20958d9e",
   "metadata": {},
   "outputs": [],
   "source": [
    "# X_train = X_train_flat\n",
    "# y_train = y_train_encoded\n",
    "# X_test = X_test_flat\n",
    "# y_test = y_test_encoded"
   ]
  },
  {
   "cell_type": "code",
   "execution_count": null,
   "id": "8a953030-5ad2-4026-bc17-02511a6b5589",
   "metadata": {},
   "outputs": [],
   "source": [
    "# rf_search = load_tuned_model(model_name=\"rf\", path=\"search_results/\" + HP + \"HP/search_rf.pkl\")\n",
    "rf_search = load_tuned_model(model_name=\"rf\", path=\"search_results/\" + HP + \"HP/search_rf.pkl\")\n",
    "xgb_search = load_tuned_model(model_name=\"xgb\", path=\"search_results/\" + HP + \"HP/search_xgb.pkl\")\n",
    "mlp_search = load_tuned_model(model_name=\"mlp\", path=\"search_results/\" + HP + \"HP/search_mlp.pkl\")\n",
    "svm_search = load_tuned_model(model_name=\"svm\", path=\"search_results/\" + HP + \"HP/search_svm.pkl\")"
   ]
  },
  {
   "cell_type": "code",
   "execution_count": null,
   "id": "005c808b-1f1b-46a8-9fe2-427769325458",
   "metadata": {},
   "outputs": [],
   "source": [
    "rf_best_params = rf_search.best_params_\n",
    "xgb_best_params = xgb_search.best_params_\n",
    "mlp_best_params = mlp_search.best_params_\n",
    "svm_best_params = svm_search.best_params_"
   ]
  },
  {
   "cell_type": "code",
   "execution_count": null,
   "id": "199b636f-8c08-4395-af40-191734b24304",
   "metadata": {},
   "outputs": [],
   "source": [
    "print(rf_best_params)\n",
    "print(xgb_best_params)\n",
    "print(mlp_best_params)\n",
    "print(svm_best_params)"
   ]
  },
  {
   "cell_type": "code",
   "execution_count": null,
   "id": "2b7eb72b-0e45-4f61-9455-5e624f85e066",
   "metadata": {},
   "outputs": [],
   "source": [
    "# # Step 2: Train and Evaluate using Best Params\n",
    "# rf_preds = train_and_evaluate_rf(X_train, y_train, X_test, y_test, rf_params=rf_best_params, n_repeats=N_REPEATS)\n",
    "# xgb_preds = train_and_evaluate_xgb(X_train, y_train, X_test, y_test, xgb_params=xgb_best_params, n_repeats=N_REPEATS)\n",
    "# mlp_preds = train_and_evaluate_mlp(X_train, y_train, X_test, y_test, mlp_params=mlp_best_params, n_repeats=N_REPEATS)\n",
    "# svm_preds = train_and_evaluate_svm(X_train, y_train, X_test, y_test, svm_params=svm_best_params, n_repeats=N_REPEATS)"
   ]
  },
  {
   "cell_type": "code",
   "execution_count": null,
   "id": "dd541871-bc13-4351-8f5b-bad24127c787",
   "metadata": {},
   "outputs": [],
   "source": [
    "# One-hot encode after split\n",
    "y_train_cat = to_categorical(y_train)\n",
    "y_test_cat = to_categorical(y_test)\n",
    "\n",
    "best_cnn_hp = load_best_hyperparameters(\"tuner_results/\" + HP + \"HP/cnn_tuning\", \"cnn_fault_classification\")\n",
    "print(\"\\n🚀 Training and evaluating CNN model with best hyperparameters...\")\n",
    "cnn_preds = train_and_evaluate_cnn(X_train_cnn, y_train_cat, X_test_cnn, y_test_cat, best_cnn_hp, N_REPEATS)"
   ]
  },
  {
   "cell_type": "code",
   "execution_count": null,
   "id": "6be25c72-85ae-4b7d-877b-210e71c258bf",
   "metadata": {},
   "outputs": [],
   "source": [
    "predictions_dict={\n",
    "    \"RF\": rf_preds,\n",
    "    \"XGB\": xgb_preds,\n",
    "    \"MLP\": mlp_preds,\n",
    "    \"SVM\": svm_preds,\n",
    "    \"CNN\": cnn_preds\n",
    "}\n",
    "\n",
    "plot_prediction_accuracies(\n",
    "    predictions_dict=predictions_dict,\n",
    "    y_true=y_test,\n",
    "    save_path=\"plots\",\n",
    "    filename=HP + \"HP_model_accuracy_comp.png\"\n",
    ")"
   ]
  },
  {
   "cell_type": "code",
   "execution_count": null,
   "id": "20f74164-c7f3-4e6c-ac8a-005267a14325",
   "metadata": {},
   "outputs": [],
   "source": [
    "best_model_name, best_pred = get_best_model_and_prediction(predictions_dict, y_test)"
   ]
  },
  {
   "cell_type": "code",
   "execution_count": null,
   "id": "64460c23-f319-4325-8d25-d9d974f6f247",
   "metadata": {},
   "outputs": [],
   "source": [
    "label_map = {i: label for i, label in enumerate(le.classes_)}\n",
    "\n",
    "# Best prediction from a model (e.g., RF)\n",
    "best_rf_pred = svm_preds[np.argmax([accuracy_score(y_test, p) for p in rf_preds])]\n",
    "\n",
    "plot_confusion_matrix_for_model(\n",
    "    y_true=y_test,\n",
    "    y_pred=best_pred,\n",
    "    model_name=best_model_name,\n",
    "    hp=HP+ \"HP\",\n",
    "    save_path=\"plots\",\n",
    "    label_map=label_map,\n",
    "    filename=HP + \"HP_confusion_matrix.png\"\n",
    ")"
   ]
  },
  {
   "cell_type": "code",
   "execution_count": null,
   "id": "476430dc-345a-4e72-bfda-f0bd88b0830d",
   "metadata": {},
   "outputs": [],
   "source": [
    "print(classification_report(y_test, best_rf_pred))"
   ]
  }
 ],
 "metadata": {
  "kernelspec": {
   "display_name": "Python 3 (ipykernel)",
   "language": "python",
   "name": "python3"
  },
  "language_info": {
   "codemirror_mode": {
    "name": "ipython",
    "version": 3
   },
   "file_extension": ".py",
   "mimetype": "text/x-python",
   "name": "python",
   "nbconvert_exporter": "python",
   "pygments_lexer": "ipython3",
   "version": "3.11.0"
  }
 },
 "nbformat": 4,
 "nbformat_minor": 5
}
