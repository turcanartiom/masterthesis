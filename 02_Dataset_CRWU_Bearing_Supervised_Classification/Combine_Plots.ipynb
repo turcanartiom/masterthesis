{
 "cells": [
  {
   "cell_type": "code",
   "execution_count": 1,
   "id": "51c6f2e9-ba0d-455a-a255-0e51b6bbf6cb",
   "metadata": {},
   "outputs": [],
   "source": [
    "from PIL import Image\n",
    "\n",
    "def combine_images_horizontally(img_path_1, img_path_2, output_path):\n",
    "    \"\"\"\n",
    "    Combine two images horizontally, centering them vertically.\n",
    "\n",
    "    Parameters:\n",
    "    - img_path_1: Path to the first image\n",
    "    - img_path_2: Path to the second image\n",
    "    - output_path: Path to save the combined image\n",
    "    \"\"\"\n",
    "    # Load both images\n",
    "    img1 = Image.open(img_path_1)\n",
    "    img2 = Image.open(img_path_2)\n",
    "\n",
    "    # Get dimensions\n",
    "    w1, h1 = img1.size\n",
    "    w2, h2 = img2.size\n",
    "\n",
    "    # New canvas size\n",
    "    total_width = w1 + w2\n",
    "    max_height = max(h1, h2)\n",
    "\n",
    "    # Create new image with transparent or white background\n",
    "    new_img = Image.new('RGB', (total_width, max_height), color=(255, 255, 255))\n",
    "\n",
    "    # Compute top margin to center each image vertically\n",
    "    y1 = (max_height - h1) // 2\n",
    "    y2 = (max_height - h2) // 2\n",
    "\n",
    "    # Paste images\n",
    "    new_img.paste(img1, (0, y1))\n",
    "    new_img.paste(img2, (w1, y2))\n",
    "\n",
    "    # Save result\n",
    "    new_img.save(output_path)\n",
    "    print(f\"Combined image saved to: {output_path}\")"
   ]
  },
  {
   "cell_type": "code",
   "execution_count": 4,
   "id": "9dd99f0a-632f-4146-84f7-b185b0c0a9af",
   "metadata": {},
   "outputs": [
    {
     "name": "stdout",
     "output_type": "stream",
     "text": [
      "✅ Combined image saved to: plots/14-class/frequency/combined_confusion_matrix_14class_0HP_freq.png\n"
     ]
    }
   ],
   "source": [
    "combine_images_horizontally(\n",
    "    img_path_1=\"plots/14-class/frequency/0HP_confusion_matrix.png\",\n",
    "    img_path_2=\"plots/14-class/frequency/0HP_confusion_matrix_CNN_frequency_domain_cut.png\",\n",
    "    output_path=\"plots/14-class/frequency/combined_confusion_matrix_14class_0HP_freq.png\"\n",
    ")"
   ]
  },
  {
   "cell_type": "code",
   "execution_count": null,
   "id": "bca0797a-8ba1-4052-9213-aa0eb3cddd8e",
   "metadata": {},
   "outputs": [],
   "source": []
  }
 ],
 "metadata": {
  "kernelspec": {
   "display_name": "Python 3 (ipykernel)",
   "language": "python",
   "name": "python3"
  },
  "language_info": {
   "codemirror_mode": {
    "name": "ipython",
    "version": 3
   },
   "file_extension": ".py",
   "mimetype": "text/x-python",
   "name": "python",
   "nbconvert_exporter": "python",
   "pygments_lexer": "ipython3",
   "version": "3.11.0"
  }
 },
 "nbformat": 4,
 "nbformat_minor": 5
}
