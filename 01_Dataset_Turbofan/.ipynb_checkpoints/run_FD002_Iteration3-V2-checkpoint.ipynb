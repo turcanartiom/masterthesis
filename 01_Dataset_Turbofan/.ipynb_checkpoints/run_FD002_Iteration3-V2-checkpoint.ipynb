{
 "cells": [
  {
   "cell_type": "code",
   "execution_count": null,
   "id": "eff7f998-334e-4dad-890c-c8a417368755",
   "metadata": {},
   "outputs": [],
   "source": [
    "from main import rul_predictor"
   ]
  },
  {
   "cell_type": "code",
   "execution_count": null,
   "id": "5ce1b75c-e43f-4332-84e3-597a5cbcbb18",
   "metadata": {},
   "outputs": [],
   "source": [
    "from preprocessing import *\n",
    "from models import *"
   ]
  },
  {
   "cell_type": "code",
   "execution_count": null,
   "id": "b78576f5-b5a4-411d-8db2-58e90a66f860",
   "metadata": {},
   "outputs": [],
   "source": [
    "predictor = rul_predictor()\n",
    "motor_name = \"FD002\"\n",
    "iteration = \"3\"\n",
    "SEQ_LENGTH = 20\n",
    "\n",
    "predictor.read_data(filename_train='CMaps/train_' + motor_name + '.txt',\n",
    "                    filename_test=\"CMaps/test_\" + motor_name + \".txt\",\n",
    "                    filename_y=\"CMaps/RUL_\" + motor_name + \".txt\")\n",
    "FEATURES = predictor.setting_names + predictor.sensor_names\n",
    "\n",
    "predictor.train = predictor.add_RUL(predictor.train)\n",
    "predictor.normalize(predictor.train, predictor.test, FEATURES)\n",
    "predictor.train = predictor.cap_rul(predictor.train, 125)"
   ]
  },
  {
   "cell_type": "code",
   "execution_count": null,
   "id": "eeb4045f-2e75-440a-a6e3-0a1af3bd444f",
   "metadata": {
    "scrolled": true
   },
   "outputs": [],
   "source": [
    "plot_sensor_values(predictor.train, FEATURES, 1, 3)"
   ]
  },
  {
   "cell_type": "code",
   "execution_count": null,
   "id": "55885a71-c9be-48e5-89c2-50c07bf02d30",
   "metadata": {
    "scrolled": true
   },
   "outputs": [],
   "source": [
    "compute_snr_for_sensors(predictor.train, FEATURES)"
   ]
  },
  {
   "cell_type": "code",
   "execution_count": null,
   "id": "a80d3735-25f1-4417-b957-f60d87179907",
   "metadata": {},
   "outputs": [],
   "source": [
    "predictor.train = apply_savgol_filter(predictor.train, FEATURES, 5, 2)\n",
    "predictor.test = apply_savgol_filter(predictor.test, FEATURES, 5, 2)\n",
    "\n",
    "# predictor.train.head()"
   ]
  },
  {
   "cell_type": "code",
   "execution_count": null,
   "id": "88f0fdde-9d1e-4698-aed1-969fb8a9fdac",
   "metadata": {
    "scrolled": true
   },
   "outputs": [],
   "source": [
    "plot_sensor_values(predictor.train, FEATURES, 1, 3)"
   ]
  },
  {
   "cell_type": "code",
   "execution_count": null,
   "id": "df4a484e-fb9d-4dc1-b375-1ae4d1178352",
   "metadata": {},
   "outputs": [],
   "source": [
    "compute_snr_for_sensors(predictor.train, FEATURES)"
   ]
  },
  {
   "cell_type": "code",
   "execution_count": null,
   "id": "d8e7d8b6-56c1-4382-9ab8-de47179764c0",
   "metadata": {
    "scrolled": true
   },
   "outputs": [],
   "source": [
    "# export_path = \"Plots/\" + motor_name + \"_VarTrhld_\" + iteration\n",
    "# variance_threshold_analysis(predictor.train, 0.007, export_path)\n",
    "\n",
    "# predictor.train, FEATURES = remove_low_variance_features(predictor.train, FEATURES, 0.007)\n",
    "\n",
    "# predictor.train.head()"
   ]
  },
  {
   "cell_type": "code",
   "execution_count": null,
   "id": "70db4ceb-326c-42e3-9fc4-0ab7f1cbff6b",
   "metadata": {},
   "outputs": [],
   "source": [
    "X, y = predictor.generate_window(predictor.train, SEQ_LENGTH, FEATURES)"
   ]
  },
  {
   "cell_type": "code",
   "execution_count": null,
   "id": "a7539d68-bb9a-42b6-af1b-f1c93699a38c",
   "metadata": {},
   "outputs": [],
   "source": [
    "# FLATTEN the sequence for Random Forest\n",
    "X_flat = X.reshape(X.shape[0], -1)"
   ]
  },
  {
   "cell_type": "code",
   "execution_count": null,
   "id": "f4eeb02b-607a-483f-8a2d-8b5e71d2e1d7",
   "metadata": {},
   "outputs": [],
   "source": [
    "X_test, y_test = predictor.prepare_test_data(predictor.test, predictor.y_test, FEATURES, SEQ_LENGTH)"
   ]
  },
  {
   "cell_type": "code",
   "execution_count": null,
   "id": "87c4bae0-5b1d-443b-bef1-52037ffa307a",
   "metadata": {},
   "outputs": [],
   "source": [
    "X_test_flat = X_test.reshape(X_test.shape[0], -1)"
   ]
  },
  {
   "cell_type": "code",
   "execution_count": null,
   "id": "2dba89d4-d37f-4b7f-833d-c6e28d8c3cf8",
   "metadata": {},
   "outputs": [],
   "source": [
    "TUNING_FITS = 30\n",
    "K_FOLD = 5\n",
    "# Hyperparameter tuning\n",
    "# search_rf = tune_model(\"rf\", X_flat, y, TUNING_FITS, K_FOLD, motor_name, iteration)\n",
    "# search_xgb = tune_model(\"xgb\", X_flat, y, TUNING_FITS, K_FOLD, motor_name, iteration)\n",
    "# search_svm = tune_model(\"svm\", X_flat, y, TUNING_FITS, K_FOLD, motor_name, iteration)\n",
    "# search_mlp = tune_model(\"mlp\", X_flat, y, TUNING_FITS, K_FOLD, motor_name, iteration)\n",
    "\n",
    "# For LSTM (expects 3D input)\n",
    "# search_lstm = tune_lstm(X, y, TUNING_FITS, 1, 100)\n",
    "\n",
    "# # For CNN (expects 3D input)\n",
    "# search_cnn = tune_cnn(X, y, TUNING_FITS, 1, 100)\n",
    "\n",
    "# For Deep-CNN (expects 3D input)\n",
    "# search_deep_cnn = tune_deep_cnn(X, y, TUNING_FITS, 1, 100)"
   ]
  },
  {
   "cell_type": "code",
   "execution_count": null,
   "id": "f3d0de68-ad4d-472d-b762-a51ff8ca490e",
   "metadata": {},
   "outputs": [],
   "source": [
    "search_rf = load_tuned_model(\"search_rf_object\", \"search_results/\" + motor_name + \"/Iteration\" + iteration + \"/\")\n",
    "search_xgb = load_tuned_model(\"search_xgb_object\", \"search_results/\" + motor_name + \"/Iteration\" + iteration + \"/\")\n",
    "search_svm = load_tuned_model(\"search_svm_object\", \"search_results/\" + motor_name + \"/Iteration\" + iteration + \"/\")\n",
    "search_mlp = load_tuned_model(\"search_mlp_object\", \"search_results/\" + motor_name + \"/Iteration\" + iteration + \"/\")"
   ]
  },
  {
   "cell_type": "code",
   "execution_count": null,
   "id": "8d393fcc-e5ab-491d-aef3-40e1ba098c8a",
   "metadata": {
    "scrolled": true
   },
   "outputs": [],
   "source": [
    "# # RF: Get the best model from it\n",
    "best_rf_model = search_rf.best_estimator_\n",
    "rf_params = best_rf_model.get_params()\n",
    "\n",
    "rf_model, y_pred_rf = train_and_evaluate_rf(X_flat, y, X_test_flat, y_test, rf_params, 5)"
   ]
  },
  {
   "cell_type": "code",
   "execution_count": null,
   "id": "da66882d-b3b3-4f8b-a6aa-6e96841b1257",
   "metadata": {},
   "outputs": [],
   "source": [
    "# XGB: Get the best model from it\n",
    "best_xgb_model = search_xgb.best_estimator_\n",
    "xgb_params = best_xgb_model.get_params()\n",
    " \n",
    "xgb_model, y_pred_xgb = train_and_evaluate_xgboost(X_flat, y, X_test_flat, y_test, xgb_params, 5)"
   ]
  },
  {
   "cell_type": "code",
   "execution_count": null,
   "id": "c4063fd1-e1b4-4877-beab-c21837e80220",
   "metadata": {
    "scrolled": true
   },
   "outputs": [],
   "source": [
    "# MLP: Get the best model from it\n",
    "best_mlp_model = search_mlp.best_estimator_\n",
    "mlp_params = best_mlp_model.get_params()\n",
    "\n",
    "mlp_model, y_pred_mlp = train_and_evaluate_mlp(X_flat, y, X_test_flat, y_test, mlp_params, 5)"
   ]
  },
  {
   "cell_type": "code",
   "execution_count": null,
   "id": "64766c78-86f2-4411-ac39-7109aee2d15a",
   "metadata": {},
   "outputs": [],
   "source": [
    "# SVM: Get the best model from it\n",
    "best_svm_model = search_svm.best_estimator_\n",
    "svm_params = best_svm_model.get_params()\n",
    "\n",
    "svm_model, y_pred_svm = train_and_evaluate_svm(X_flat, y, X_test_flat, y_test, svm_params, 1)"
   ]
  },
  {
   "cell_type": "code",
   "execution_count": null,
   "id": "136fe645-08a2-4f3e-b078-e0838cf22a4a",
   "metadata": {
    "scrolled": true
   },
   "outputs": [],
   "source": [
    "#LSTM NEW IMPLEMENTATION\n",
    "best_lstm_hp = load_best_hyperparameters(\"tuner_results/\" + motor_name + \"/Iteration\" + iteration + \"/lstm_bayes_tuner\", \"rul_lstm_bayes\")\n",
    "\n",
    "lstm_model, y_pred_lstm = train_and_evaluate_lstm(X, y, X_test, y_test, best_lstm_hp, build_lstm_model, 100)"
   ]
  },
  {
   "cell_type": "code",
   "execution_count": null,
   "id": "757b4f34-e58c-4f8b-b83b-8d88e60d3b58",
   "metadata": {
    "scrolled": true
   },
   "outputs": [],
   "source": [
    "#CNN NEW IMPLEMENTATION\n",
    "best_cnn_hp = load_best_hyperparameters(\"tuner_results/\" + motor_name + \"/Iteration\" + iteration + \"/cnn_bayes_tuner\", \"rul_cnn_bayes\")\n",
    "\n",
    "cnn_model, y_pred_cnn = train_and_evaluate_cnn(X, y, X_test, y_test, best_cnn_hp, build_cnn_model, 100)"
   ]
  },
  {
   "cell_type": "code",
   "execution_count": null,
   "id": "acae4954-5e3f-4b1c-b31a-83b32d833091",
   "metadata": {
    "scrolled": true
   },
   "outputs": [],
   "source": [
    "#DEEP CNN NEW IMPLEMENTATION\n",
    "best_deep_cnn_hp = load_best_hyperparameters(\"tuner_results/\" + motor_name + \"/Iteration\" + iteration + \"/deep_cnn_bayes_tuner\", \"rul_deep_cnn\")\n",
    "\n",
    "deep_cnn_model, y_pred_deep_cnn = train_and_evaluate_deep_cnn(X, y, X_test, y_test, best_deep_cnn_hp, build_deep_cnn, 100)"
   ]
  },
  {
   "cell_type": "code",
   "execution_count": null,
   "id": "657d4832-ac60-4088-88b2-860f31b94d1b",
   "metadata": {
    "scrolled": true
   },
   "outputs": [],
   "source": [
    "from evaluation import *\n",
    "predictions = {\n",
    "    \"rf\": y_pred_rf,\n",
    "    \"xgb\": y_pred_xgb,\n",
    "    \"svm\": y_pred_svm,\n",
    "    \"mlp\": y_pred_mlp,\n",
    "    \"lstm\": y_pred_lstm,\n",
    "    \"cnn\": y_pred_cnn,\n",
    "    \"Deep-CNN\": y_pred_deep_cnn\n",
    "}\n",
    "save_path = \"Plots/\" + motor_name + \"_PerfComp_It_\" + iteration\n",
    "plot_model_performance(y_test, predictions, save_path)"
   ]
  },
  {
   "cell_type": "code",
   "execution_count": null,
   "id": "e5211f83-44ce-49ad-8631-34c059483f70",
   "metadata": {},
   "outputs": [],
   "source": [
    "save_predictions_dict(predictions, \"y_preds/\" + motor_name + \"/Iteration\" + iteration + \"_y_preds.pkl\")"
   ]
  },
  {
   "cell_type": "code",
   "execution_count": null,
   "id": "a2b8172c-6233-4272-9873-793f1609bb41",
   "metadata": {},
   "outputs": [],
   "source": [
    "# predictions_dict = load_predictions_dict(\"y_preds/\" + motor_name + \"/Iteration\" + iteration + \"_y_preds.pkl\")"
   ]
  },
  {
   "cell_type": "code",
   "execution_count": null,
   "id": "d10558b6-b359-446f-b185-3b15a9277064",
   "metadata": {},
   "outputs": [],
   "source": [
    "# save_path = \"Plots/\" + motor_name + \"_PerfCompNEW_It_\" + iteration\n",
    "\n",
    "# plot_model_performance(y_test, predictions, save_path)"
   ]
  },
  {
   "cell_type": "code",
   "execution_count": null,
   "id": "d3f39104-c8e7-43a5-97e0-1b0ad3dfca70",
   "metadata": {},
   "outputs": [],
   "source": []
  }
 ],
 "metadata": {
  "kernelspec": {
   "display_name": "Python 3 (ipykernel)",
   "language": "python",
   "name": "python3"
  },
  "language_info": {
   "codemirror_mode": {
    "name": "ipython",
    "version": 3
   },
   "file_extension": ".py",
   "mimetype": "text/x-python",
   "name": "python",
   "nbconvert_exporter": "python",
   "pygments_lexer": "ipython3",
   "version": "3.11.0"
  }
 },
 "nbformat": 4,
 "nbformat_minor": 5
}
