{
 "cells": [
  {
   "cell_type": "code",
   "execution_count": 1,
   "id": "eff7f998-334e-4dad-890c-c8a417368755",
   "metadata": {},
   "outputs": [],
   "source": [
    "from main import rul_predictor"
   ]
  },
  {
   "cell_type": "code",
   "execution_count": 2,
   "id": "5ce1b75c-e43f-4332-84e3-597a5cbcbb18",
   "metadata": {},
   "outputs": [],
   "source": [
    "from preprocessing import *\n",
    "from models import *"
   ]
  },
  {
   "cell_type": "code",
   "execution_count": 3,
   "id": "b78576f5-b5a4-411d-8db2-58e90a66f860",
   "metadata": {},
   "outputs": [],
   "source": [
    "predictor = rul_predictor()\n",
    "motor_name = \"FD001\"\n",
    "iteration = \"1\"\n",
    "SEQ_LENGTH = 20\n",
    "\n",
    "predictor.read_data(filename_train='CMaps/train_' + motor_name + '.txt',\n",
    "                    filename_test=\"CMaps/test_\" + motor_name + \".txt\",\n",
    "                    filename_y=\"CMaps/RUL_\" + motor_name + \".txt\")\n",
    "FEATURES = predictor.setting_names + predictor.sensor_names\n",
    "\n",
    "predictor.train = predictor.add_RUL(predictor.train)\n",
    "predictor.normalize(predictor.train, predictor.test, FEATURES)\n",
    "predictor.train = predictor.cap_rul(predictor.train, 125)"
   ]
  },
  {
   "cell_type": "code",
   "execution_count": 4,
   "id": "55885a71-c9be-48e5-89c2-50c07bf02d30",
   "metadata": {},
   "outputs": [
    {
     "name": "stdout",
     "output_type": "stream",
     "text": [
      "SNR for setting_1: 0.95\n",
      "SNR for setting_2: 0.97\n",
      "SNR for setting_3: inf\n",
      "SNR for s_1: inf\n",
      "SNR for s_2: 4.22\n",
      "SNR for s_3: 3.47\n",
      "SNR for s_4: 7.96\n",
      "SNR for s_5: inf\n",
      "SNR for s_6: 1.13\n",
      "SNR for s_7: 7.50\n",
      "SNR for s_8: 9.12\n",
      "SNR for s_9: 36.63\n",
      "SNR for s_10: inf\n",
      "SNR for s_11: 11.19\n",
      "SNR for s_12: 9.82\n",
      "SNR for s_13: 9.22\n",
      "SNR for s_14: 46.63\n",
      "SNR for s_15: 5.43\n",
      "SNR for s_16: inf\n",
      "SNR for s_17: 4.03\n",
      "SNR for s_18: inf\n",
      "SNR for s_19: inf\n",
      "SNR for s_20: 4.96\n",
      "SNR for s_21: 5.02\n"
     ]
    },
    {
     "data": {
      "text/plain": [
       "{'setting_1': np.float64(0.9451877023176551),\n",
       " 'setting_2': np.float64(0.970536446374189),\n",
       " 'setting_3': inf,\n",
       " 's_1': inf,\n",
       " 's_2': np.float64(4.220975309512715),\n",
       " 's_3': np.float64(3.4692773164925863),\n",
       " 's_4': np.float64(7.96220151929913),\n",
       " 's_5': inf,\n",
       " 's_6': np.float64(1.125543257191568),\n",
       " 's_7': np.float64(7.501102225047455),\n",
       " 's_8': np.float64(9.12056429329275),\n",
       " 's_9': np.float64(36.62965653339209),\n",
       " 's_10': inf,\n",
       " 's_11': np.float64(11.190856968332973),\n",
       " 's_12': np.float64(9.819002519271947),\n",
       " 's_13': np.float64(9.221744653103121),\n",
       " 's_14': np.float64(46.62669096035619),\n",
       " 's_15': np.float64(5.434626032354147),\n",
       " 's_16': inf,\n",
       " 's_17': np.float64(4.029056855129847),\n",
       " 's_18': inf,\n",
       " 's_19': inf,\n",
       " 's_20': np.float64(4.955136432686272),\n",
       " 's_21': np.float64(5.023901569102231)}"
      ]
     },
     "execution_count": 4,
     "metadata": {},
     "output_type": "execute_result"
    }
   ],
   "source": [
    "compute_snr_for_sensors(predictor.train, FEATURES)"
   ]
  },
  {
   "cell_type": "code",
   "execution_count": 5,
   "id": "a80d3735-25f1-4417-b957-f60d87179907",
   "metadata": {},
   "outputs": [],
   "source": [
    "# predictor.train = apply_savgol_filter(predictor.train, FEATURES, 3, 1)\n",
    "\n",
    "# predictor.train.head()"
   ]
  },
  {
   "cell_type": "code",
   "execution_count": 6,
   "id": "df4a484e-fb9d-4dc1-b375-1ae4d1178352",
   "metadata": {},
   "outputs": [],
   "source": [
    "# compute_snr_for_sensors(predictor.train, FEATURES)"
   ]
  },
  {
   "cell_type": "code",
   "execution_count": 7,
   "id": "d8e7d8b6-56c1-4382-9ab8-de47179764c0",
   "metadata": {
    "scrolled": true
   },
   "outputs": [],
   "source": [
    "export_path = \"Plots/\" + motor_name + \"_VarTrhld_\" + iteration\n",
    "# variance_threshold_analysis(predictor.train, 0.009, export_path)\n",
    "\n",
    "# predictor.train, FEATURES = remove_low_variance_features(predictor.train, FEATURES, 0.009)\n",
    "\n",
    "# predictor.train.head()"
   ]
  },
  {
   "cell_type": "code",
   "execution_count": 8,
   "id": "70db4ceb-326c-42e3-9fc4-0ab7f1cbff6b",
   "metadata": {},
   "outputs": [],
   "source": [
    "X, y = predictor.generate_window(predictor.train, SEQ_LENGTH, FEATURES)"
   ]
  },
  {
   "cell_type": "code",
   "execution_count": 9,
   "id": "a7539d68-bb9a-42b6-af1b-f1c93699a38c",
   "metadata": {},
   "outputs": [],
   "source": [
    "# FLATTEN the sequence for Random Forest\n",
    "X_flat = X.reshape(X.shape[0], -1)"
   ]
  },
  {
   "cell_type": "code",
   "execution_count": 10,
   "id": "f4eeb02b-607a-483f-8a2d-8b5e71d2e1d7",
   "metadata": {},
   "outputs": [],
   "source": [
    "X_test, y_test = predictor.prepare_test_data(predictor.test, predictor.y_test, FEATURES, SEQ_LENGTH)"
   ]
  },
  {
   "cell_type": "code",
   "execution_count": 11,
   "id": "87c4bae0-5b1d-443b-bef1-52037ffa307a",
   "metadata": {},
   "outputs": [],
   "source": [
    "X_test_flat = X_test.reshape(X_test.shape[0], -1)"
   ]
  },
  {
   "cell_type": "code",
   "execution_count": 13,
   "id": "2dba89d4-d37f-4b7f-833d-c6e28d8c3cf8",
   "metadata": {},
   "outputs": [
    {
     "ename": "ValueError",
     "evalue": "can only convert an array of size 1 to a Python scalar",
     "output_type": "error",
     "traceback": [
      "\u001b[31m---------------------------------------------------------------------------\u001b[39m",
      "\u001b[31mValueError\u001b[39m                                Traceback (most recent call last)",
      "\u001b[36mCell\u001b[39m\u001b[36m \u001b[39m\u001b[32mIn[13]\u001b[39m\u001b[32m, line 7\u001b[39m\n\u001b[32m      2\u001b[39m K_FOLD = \u001b[32m5\u001b[39m\n\u001b[32m      3\u001b[39m \u001b[38;5;66;03m# # Hyperparameter tuning\u001b[39;00m\n\u001b[32m      4\u001b[39m \u001b[38;5;66;03m# search_rf = predictor.tune_model(\"rf\", X_flat, y, TUNING_FITS, K_FOLD)\u001b[39;00m\n\u001b[32m      5\u001b[39m \u001b[38;5;66;03m# search_xgb = predictor.tune_model(\"xgb\", X_flat, y, TUNING_FITS, K_FOLD)\u001b[39;00m\n\u001b[32m      6\u001b[39m \u001b[38;5;66;03m# search_svm = predictor.tune_model(\"svm\", X_flat, y, TUNING_FITS, K_FOLD)\u001b[39;00m\n\u001b[32m----> \u001b[39m\u001b[32m7\u001b[39m search_mlp = \u001b[43mtune_model\u001b[49m\u001b[43m(\u001b[49m\u001b[33;43m\"\u001b[39;49m\u001b[33;43mmlp\u001b[39;49m\u001b[33;43m\"\u001b[39;49m\u001b[43m,\u001b[49m\u001b[43m \u001b[49m\u001b[43mX_flat\u001b[49m\u001b[43m,\u001b[49m\u001b[43m \u001b[49m\u001b[43my\u001b[49m\u001b[43m,\u001b[49m\u001b[43m \u001b[49m\u001b[43mTUNING_FITS\u001b[49m\u001b[43m,\u001b[49m\u001b[43m \u001b[49m\u001b[43mK_FOLD\u001b[49m\u001b[43m)\u001b[49m\n\u001b[32m      9\u001b[39m \u001b[38;5;66;03m# # For LSTM (expects 3D input)\u001b[39;00m\n\u001b[32m     10\u001b[39m \u001b[38;5;66;03m# search_lstm = tune_lstm(X, y, TUNING_FITS, 1, 100, motor_name, iteration)\u001b[39;00m\n\u001b[32m     11\u001b[39m \n\u001b[32m   (...)\u001b[39m\u001b[32m     15\u001b[39m \u001b[38;5;66;03m# For Deep-CNN (expects 3D input)\u001b[39;00m\n\u001b[32m     16\u001b[39m \u001b[38;5;66;03m# search_deep_cnn = tune_deep_cnn(X, y, TUNING_FITS, 1, 100, motor_name, iteration)\u001b[39;00m\n",
      "\u001b[36mFile \u001b[39m\u001b[32m~\\Desktop\\Master_Thesis_Code_GitHub\\01_Dataset_Turbofan\\RF\\OOP\\models.py:217\u001b[39m, in \u001b[36mtune_model\u001b[39m\u001b[34m(model_name, X, y, n_iter, cv, motor_name, iteration)\u001b[39m\n\u001b[32m    199\u001b[39m param_space = {\n\u001b[32m    200\u001b[39m     \u001b[33m'\u001b[39m\u001b[33mhidden_layer_sizes\u001b[39m\u001b[33m'\u001b[39m: Categorical([(\u001b[32m64\u001b[39m,), (\u001b[32m128\u001b[39m, \u001b[32m64\u001b[39m), (\u001b[32m256\u001b[39m, \u001b[32m128\u001b[39m)]),\n\u001b[32m    201\u001b[39m     \u001b[33m'\u001b[39m\u001b[33mactivation\u001b[39m\u001b[33m'\u001b[39m: Categorical([\u001b[33m'\u001b[39m\u001b[33mrelu\u001b[39m\u001b[33m'\u001b[39m, \u001b[33m'\u001b[39m\u001b[33mtanh\u001b[39m\u001b[33m'\u001b[39m]),\n\u001b[32m    202\u001b[39m     \u001b[33m'\u001b[39m\u001b[33malpha\u001b[39m\u001b[33m'\u001b[39m: Real(\u001b[32m1e-4\u001b[39m, \u001b[32m1e-2\u001b[39m, prior=\u001b[33m'\u001b[39m\u001b[33mlog-uniform\u001b[39m\u001b[33m'\u001b[39m),\n\u001b[32m    203\u001b[39m     \u001b[33m'\u001b[39m\u001b[33mlearning_rate_init\u001b[39m\u001b[33m'\u001b[39m: Real(\u001b[32m1e-3\u001b[39m, \u001b[32m1e-1\u001b[39m, prior=\u001b[33m'\u001b[39m\u001b[33mlog-uniform\u001b[39m\u001b[33m'\u001b[39m)\n\u001b[32m    204\u001b[39m }\n\u001b[32m    206\u001b[39m search = BayesSearchCV(\n\u001b[32m    207\u001b[39m     estimator=estimator,\n\u001b[32m    208\u001b[39m     search_spaces=param_space,\n\u001b[32m   (...)\u001b[39m\u001b[32m    214\u001b[39m     random_state=\u001b[32m42\u001b[39m\n\u001b[32m    215\u001b[39m )\n\u001b[32m--> \u001b[39m\u001b[32m217\u001b[39m \u001b[43msearch\u001b[49m\u001b[43m.\u001b[49m\u001b[43mfit\u001b[49m\u001b[43m(\u001b[49m\u001b[43mX\u001b[49m\u001b[43m,\u001b[49m\u001b[43m \u001b[49m\u001b[43my\u001b[49m\u001b[43m)\u001b[49m\n\u001b[32m    219\u001b[39m \u001b[38;5;28mprint\u001b[39m(\u001b[33mf\u001b[39m\u001b[33m\"\u001b[39m\u001b[33mBest score: \u001b[39m\u001b[38;5;132;01m{\u001b[39;00m-search.best_score_\u001b[38;5;132;01m:\u001b[39;00m\u001b[33m.2f\u001b[39m\u001b[38;5;132;01m}\u001b[39;00m\u001b[33m\"\u001b[39m)\n\u001b[32m    220\u001b[39m \u001b[38;5;28mprint\u001b[39m(\u001b[33mf\u001b[39m\u001b[33m\"\u001b[39m\u001b[33mBest parameters:\u001b[39m\u001b[38;5;130;01m\\n\u001b[39;00m\u001b[38;5;132;01m{\u001b[39;00msearch.best_params_\u001b[38;5;132;01m}\u001b[39;00m\u001b[33m\"\u001b[39m)\n",
      "\u001b[36mFile \u001b[39m\u001b[32m~\\jupyter_env\\Lib\\site-packages\\skopt\\searchcv.py:542\u001b[39m, in \u001b[36mBayesSearchCV.fit\u001b[39m\u001b[34m(self, X, y, groups, callback, **fit_params)\u001b[39m\n\u001b[32m    535\u001b[39m \u001b[38;5;28;01mif\u001b[39;00m \u001b[38;5;28mcallable\u001b[39m(\u001b[38;5;28mself\u001b[39m.refit):\n\u001b[32m    536\u001b[39m     \u001b[38;5;28;01mraise\u001b[39;00m \u001b[38;5;167;01mValueError\u001b[39;00m(\n\u001b[32m    537\u001b[39m         \u001b[33m\"\u001b[39m\u001b[33mBayesSearchCV doesn\u001b[39m\u001b[33m'\u001b[39m\u001b[33mt support a callable refit, \u001b[39m\u001b[33m\"\u001b[39m\n\u001b[32m    538\u001b[39m         \u001b[33m\"\u001b[39m\u001b[33mas it doesn\u001b[39m\u001b[33m'\u001b[39m\u001b[33mt define an implicit score to \u001b[39m\u001b[33m\"\u001b[39m\n\u001b[32m    539\u001b[39m         \u001b[33m\"\u001b[39m\u001b[33moptimize\u001b[39m\u001b[33m\"\u001b[39m\n\u001b[32m    540\u001b[39m     )\n\u001b[32m--> \u001b[39m\u001b[32m542\u001b[39m \u001b[38;5;28;43msuper\u001b[39;49m\u001b[43m(\u001b[49m\u001b[43m)\u001b[49m\u001b[43m.\u001b[49m\u001b[43mfit\u001b[49m\u001b[43m(\u001b[49m\u001b[43mX\u001b[49m\u001b[43m=\u001b[49m\u001b[43mX\u001b[49m\u001b[43m,\u001b[49m\u001b[43m \u001b[49m\u001b[43my\u001b[49m\u001b[43m=\u001b[49m\u001b[43my\u001b[49m\u001b[43m,\u001b[49m\u001b[43m \u001b[49m\u001b[43mgroups\u001b[49m\u001b[43m=\u001b[49m\u001b[43mgroups\u001b[49m\u001b[43m,\u001b[49m\u001b[43m \u001b[49m\u001b[43m*\u001b[49m\u001b[43m*\u001b[49m\u001b[43mfit_params\u001b[49m\u001b[43m)\u001b[49m\n\u001b[32m    544\u001b[39m \u001b[38;5;66;03m# BaseSearchCV never ranked train scores,\u001b[39;00m\n\u001b[32m    545\u001b[39m \u001b[38;5;66;03m# but apparently we used to ship this (back-compat)\u001b[39;00m\n\u001b[32m    546\u001b[39m \u001b[38;5;28;01mif\u001b[39;00m \u001b[38;5;28mself\u001b[39m.return_train_score:\n",
      "\u001b[36mFile \u001b[39m\u001b[32m~\\jupyter_env\\Lib\\site-packages\\sklearn\\base.py:1389\u001b[39m, in \u001b[36m_fit_context.<locals>.decorator.<locals>.wrapper\u001b[39m\u001b[34m(estimator, *args, **kwargs)\u001b[39m\n\u001b[32m   1382\u001b[39m     estimator._validate_params()\n\u001b[32m   1384\u001b[39m \u001b[38;5;28;01mwith\u001b[39;00m config_context(\n\u001b[32m   1385\u001b[39m     skip_parameter_validation=(\n\u001b[32m   1386\u001b[39m         prefer_skip_nested_validation \u001b[38;5;129;01mor\u001b[39;00m global_skip_validation\n\u001b[32m   1387\u001b[39m     )\n\u001b[32m   1388\u001b[39m ):\n\u001b[32m-> \u001b[39m\u001b[32m1389\u001b[39m     \u001b[38;5;28;01mreturn\u001b[39;00m \u001b[43mfit_method\u001b[49m\u001b[43m(\u001b[49m\u001b[43mestimator\u001b[49m\u001b[43m,\u001b[49m\u001b[43m \u001b[49m\u001b[43m*\u001b[49m\u001b[43margs\u001b[49m\u001b[43m,\u001b[49m\u001b[43m \u001b[49m\u001b[43m*\u001b[49m\u001b[43m*\u001b[49m\u001b[43mkwargs\u001b[49m\u001b[43m)\u001b[49m\n",
      "\u001b[36mFile \u001b[39m\u001b[32m~\\jupyter_env\\Lib\\site-packages\\sklearn\\model_selection\\_search.py:1024\u001b[39m, in \u001b[36mBaseSearchCV.fit\u001b[39m\u001b[34m(self, X, y, **params)\u001b[39m\n\u001b[32m   1018\u001b[39m     results = \u001b[38;5;28mself\u001b[39m._format_results(\n\u001b[32m   1019\u001b[39m         all_candidate_params, n_splits, all_out, all_more_results\n\u001b[32m   1020\u001b[39m     )\n\u001b[32m   1022\u001b[39m     \u001b[38;5;28;01mreturn\u001b[39;00m results\n\u001b[32m-> \u001b[39m\u001b[32m1024\u001b[39m \u001b[38;5;28;43mself\u001b[39;49m\u001b[43m.\u001b[49m\u001b[43m_run_search\u001b[49m\u001b[43m(\u001b[49m\u001b[43mevaluate_candidates\u001b[49m\u001b[43m)\u001b[49m\n\u001b[32m   1026\u001b[39m \u001b[38;5;66;03m# multimetric is determined here because in the case of a callable\u001b[39;00m\n\u001b[32m   1027\u001b[39m \u001b[38;5;66;03m# self.scoring the return type is only known after calling\u001b[39;00m\n\u001b[32m   1028\u001b[39m first_test_score = all_out[\u001b[32m0\u001b[39m][\u001b[33m\"\u001b[39m\u001b[33mtest_scores\u001b[39m\u001b[33m\"\u001b[39m]\n",
      "\u001b[36mFile \u001b[39m\u001b[32m~\\jupyter_env\\Lib\\site-packages\\skopt\\searchcv.py:599\u001b[39m, in \u001b[36mBayesSearchCV._run_search\u001b[39m\u001b[34m(self, evaluate_candidates)\u001b[39m\n\u001b[32m    595\u001b[39m \u001b[38;5;28;01mwhile\u001b[39;00m n_iter > \u001b[32m0\u001b[39m:\n\u001b[32m    596\u001b[39m     \u001b[38;5;66;03m# when n_iter < n_points points left for evaluation\u001b[39;00m\n\u001b[32m    597\u001b[39m     n_points_adjusted = \u001b[38;5;28mmin\u001b[39m(n_iter, n_points)\n\u001b[32m--> \u001b[39m\u001b[32m599\u001b[39m     optim_result, score_name = \u001b[38;5;28;43mself\u001b[39;49m\u001b[43m.\u001b[49m\u001b[43m_step\u001b[49m\u001b[43m(\u001b[49m\n\u001b[32m    600\u001b[39m \u001b[43m        \u001b[49m\u001b[43msearch_space\u001b[49m\u001b[43m,\u001b[49m\n\u001b[32m    601\u001b[39m \u001b[43m        \u001b[49m\u001b[43moptimizer\u001b[49m\u001b[43m,\u001b[49m\n\u001b[32m    602\u001b[39m \u001b[43m        \u001b[49m\u001b[43mscore_name\u001b[49m\u001b[43m,\u001b[49m\n\u001b[32m    603\u001b[39m \u001b[43m        \u001b[49m\u001b[43mevaluate_candidates\u001b[49m\u001b[43m,\u001b[49m\n\u001b[32m    604\u001b[39m \u001b[43m        \u001b[49m\u001b[43mn_points\u001b[49m\u001b[43m=\u001b[49m\u001b[43mn_points_adjusted\u001b[49m\u001b[43m,\u001b[49m\n\u001b[32m    605\u001b[39m \u001b[43m    \u001b[49m\u001b[43m)\u001b[49m\n\u001b[32m    606\u001b[39m     n_iter -= n_points\n\u001b[32m    608\u001b[39m     \u001b[38;5;28;01mif\u001b[39;00m eval_callbacks(callbacks, optim_result):\n",
      "\u001b[36mFile \u001b[39m\u001b[32m~\\jupyter_env\\Lib\\site-packages\\skopt\\searchcv.py:448\u001b[39m, in \u001b[36mBayesSearchCV._step\u001b[39m\u001b[34m(self, search_space, optimizer, score_name, evaluate_candidates, n_points)\u001b[39m\n\u001b[32m    445\u001b[39m params = optimizer.ask(n_points=n_points)\n\u001b[32m    447\u001b[39m \u001b[38;5;66;03m# convert parameters to python native types\u001b[39;00m\n\u001b[32m--> \u001b[39m\u001b[32m448\u001b[39m params = \u001b[43m[\u001b[49m\u001b[43m[\u001b[49m\u001b[43mnp\u001b[49m\u001b[43m.\u001b[49m\u001b[43marray\u001b[49m\u001b[43m(\u001b[49m\u001b[43mv\u001b[49m\u001b[43m)\u001b[49m\u001b[43m.\u001b[49m\u001b[43mitem\u001b[49m\u001b[43m(\u001b[49m\u001b[43m)\u001b[49m\u001b[43m \u001b[49m\u001b[38;5;28;43;01mfor\u001b[39;49;00m\u001b[43m \u001b[49m\u001b[43mv\u001b[49m\u001b[43m \u001b[49m\u001b[38;5;129;43;01min\u001b[39;49;00m\u001b[43m \u001b[49m\u001b[43mp\u001b[49m\u001b[43m]\u001b[49m\u001b[43m \u001b[49m\u001b[38;5;28;43;01mfor\u001b[39;49;00m\u001b[43m \u001b[49m\u001b[43mp\u001b[49m\u001b[43m \u001b[49m\u001b[38;5;129;43;01min\u001b[39;49;00m\u001b[43m \u001b[49m\u001b[43mparams\u001b[49m\u001b[43m]\u001b[49m\n\u001b[32m    450\u001b[39m \u001b[38;5;66;03m# make lists into dictionaries\u001b[39;00m\n\u001b[32m    451\u001b[39m params_dict = [point_asdict(search_space, p) \u001b[38;5;28;01mfor\u001b[39;00m p \u001b[38;5;129;01min\u001b[39;00m params]\n",
      "\u001b[36mFile \u001b[39m\u001b[32m~\\jupyter_env\\Lib\\site-packages\\skopt\\searchcv.py:448\u001b[39m, in \u001b[36m<listcomp>\u001b[39m\u001b[34m(.0)\u001b[39m\n\u001b[32m    445\u001b[39m params = optimizer.ask(n_points=n_points)\n\u001b[32m    447\u001b[39m \u001b[38;5;66;03m# convert parameters to python native types\u001b[39;00m\n\u001b[32m--> \u001b[39m\u001b[32m448\u001b[39m params = [\u001b[43m[\u001b[49m\u001b[43mnp\u001b[49m\u001b[43m.\u001b[49m\u001b[43marray\u001b[49m\u001b[43m(\u001b[49m\u001b[43mv\u001b[49m\u001b[43m)\u001b[49m\u001b[43m.\u001b[49m\u001b[43mitem\u001b[49m\u001b[43m(\u001b[49m\u001b[43m)\u001b[49m\u001b[43m \u001b[49m\u001b[38;5;28;43;01mfor\u001b[39;49;00m\u001b[43m \u001b[49m\u001b[43mv\u001b[49m\u001b[43m \u001b[49m\u001b[38;5;129;43;01min\u001b[39;49;00m\u001b[43m \u001b[49m\u001b[43mp\u001b[49m\u001b[43m]\u001b[49m \u001b[38;5;28;01mfor\u001b[39;00m p \u001b[38;5;129;01min\u001b[39;00m params]\n\u001b[32m    450\u001b[39m \u001b[38;5;66;03m# make lists into dictionaries\u001b[39;00m\n\u001b[32m    451\u001b[39m params_dict = [point_asdict(search_space, p) \u001b[38;5;28;01mfor\u001b[39;00m p \u001b[38;5;129;01min\u001b[39;00m params]\n",
      "\u001b[36mFile \u001b[39m\u001b[32m~\\jupyter_env\\Lib\\site-packages\\skopt\\searchcv.py:448\u001b[39m, in \u001b[36m<listcomp>\u001b[39m\u001b[34m(.0)\u001b[39m\n\u001b[32m    445\u001b[39m params = optimizer.ask(n_points=n_points)\n\u001b[32m    447\u001b[39m \u001b[38;5;66;03m# convert parameters to python native types\u001b[39;00m\n\u001b[32m--> \u001b[39m\u001b[32m448\u001b[39m params = [[\u001b[43mnp\u001b[49m\u001b[43m.\u001b[49m\u001b[43marray\u001b[49m\u001b[43m(\u001b[49m\u001b[43mv\u001b[49m\u001b[43m)\u001b[49m\u001b[43m.\u001b[49m\u001b[43mitem\u001b[49m\u001b[43m(\u001b[49m\u001b[43m)\u001b[49m \u001b[38;5;28;01mfor\u001b[39;00m v \u001b[38;5;129;01min\u001b[39;00m p] \u001b[38;5;28;01mfor\u001b[39;00m p \u001b[38;5;129;01min\u001b[39;00m params]\n\u001b[32m    450\u001b[39m \u001b[38;5;66;03m# make lists into dictionaries\u001b[39;00m\n\u001b[32m    451\u001b[39m params_dict = [point_asdict(search_space, p) \u001b[38;5;28;01mfor\u001b[39;00m p \u001b[38;5;129;01min\u001b[39;00m params]\n",
      "\u001b[31mValueError\u001b[39m: can only convert an array of size 1 to a Python scalar"
     ]
    }
   ],
   "source": [
    "TUNING_FITS = 30\n",
    "K_FOLD = 5\n",
    "# # Hyperparameter tuning\n",
    "# search_rf = predictor.tune_model(\"rf\", X_flat, y, TUNING_FITS, K_FOLD)\n",
    "# search_xgb = predictor.tune_model(\"xgb\", X_flat, y, TUNING_FITS, K_FOLD)\n",
    "# search_svm = predictor.tune_model(\"svm\", X_flat, y, TUNING_FITS, K_FOLD)\n",
    "search_mlp = tune_model(\"mlp\", X_flat, y, TUNING_FITS, K_FOLD)\n",
    "\n",
    "# # For LSTM (expects 3D input)\n",
    "# search_lstm = tune_lstm(X, y, TUNING_FITS, 1, 100, motor_name, iteration)\n",
    "\n",
    "# # For CNN (expects 3D input)\n",
    "# search_cnn = tune_cnn(X, y, TUNING_FITS, 1, 100, motor_name, iteration)\n",
    "\n",
    "# For Deep-CNN (expects 3D input)\n",
    "# search_deep_cnn = tune_deep_cnn(X, y, TUNING_FITS, 1, 100, motor_name, iteration)"
   ]
  },
  {
   "cell_type": "code",
   "execution_count": null,
   "id": "f3d0de68-ad4d-472d-b762-a51ff8ca490e",
   "metadata": {},
   "outputs": [],
   "source": [
    "search_rf = load_tuned_model(\"search_rf_object\", \"search_results/\" + motor_name + \"/Iteration\" + iteration + \"/\")\n",
    "search_xgb = load_tuned_model(\"search_xgb_object\", \"search_results/\" + motor_name + \"/Iteration\" + iteration + \"/\")\n",
    "search_svm = load_tuned_model(\"search_svm_object\", \"search_results/\" + motor_name + \"/Iteration\" + iteration + \"/\")\n",
    "search_mlp = load_tuned_model(\"search_mlp_object\", \"search_results/\" + motor_name + \"/Iteration\" + iteration + \"/\")"
   ]
  },
  {
   "cell_type": "code",
   "execution_count": null,
   "id": "8d393fcc-e5ab-491d-aef3-40e1ba098c8a",
   "metadata": {
    "scrolled": true
   },
   "outputs": [],
   "source": [
    "# # RF: Get the best model from it\n",
    "best_rf_model = search_rf.best_estimator_\n",
    "rf_params = best_rf_model.get_params()\n",
    "\n",
    "rf_model, y_pred_rf = train_and_evaluate_rf(X_flat, y, X_test_flat, y_test, rf_params)"
   ]
  },
  {
   "cell_type": "code",
   "execution_count": null,
   "id": "da66882d-b3b3-4f8b-a6aa-6e96841b1257",
   "metadata": {},
   "outputs": [],
   "source": [
    "# XGB: Get the best model from it\n",
    "best_xgb_model = search_xgb.best_estimator_\n",
    "xgb_params = best_xgb_model.get_params()\n",
    " \n",
    "xgb_model, y_pred_xgb = train_and_evaluate_xgboost(X_flat, y, X_test_flat, y_test, xgb_params)"
   ]
  },
  {
   "cell_type": "code",
   "execution_count": null,
   "id": "c4063fd1-e1b4-4877-beab-c21837e80220",
   "metadata": {
    "scrolled": true
   },
   "outputs": [],
   "source": [
    "# MLP: Get the best model from it\n",
    "best_mlp_model = search_mlp.best_estimator_\n",
    "mlp_params = best_mlp_model.get_params()\n",
    "\n",
    "mlp_model, y_pred_mlp = train_and_evaluate_mlp(X_flat, y, X_test_flat, y_test, mlp_params)"
   ]
  },
  {
   "cell_type": "code",
   "execution_count": null,
   "id": "64766c78-86f2-4411-ac39-7109aee2d15a",
   "metadata": {},
   "outputs": [],
   "source": [
    "# SVM: Get the best model from it\n",
    "best_svm_model = search_svm.best_estimator_\n",
    "svm_params = best_svm_model.get_params()\n",
    "\n",
    "svm_model, y_pred_svm = train_and_evaluate_svm(X_flat, y, X_test_flat, y_test, svm_params, 1)"
   ]
  },
  {
   "cell_type": "code",
   "execution_count": null,
   "id": "136fe645-08a2-4f3e-b078-e0838cf22a4a",
   "metadata": {
    "scrolled": true
   },
   "outputs": [],
   "source": [
    "#LSTM NEW IMPLEMENTATION\n",
    "best_lstm_hp = load_best_hyperparameters(\"tuner_results/\" + motor_name + \"/Iteration\" + iteration + \"/lstm_bayes_tuner\", \"rul_lstm_bayes\")\n",
    "\n",
    "lstm_model, y_pred_lstm = train_and_evaluate_lstm(X, y, X_test, y_test, best_lstm_hp, build_lstm_model, 100)"
   ]
  },
  {
   "cell_type": "code",
   "execution_count": null,
   "id": "757b4f34-e58c-4f8b-b83b-8d88e60d3b58",
   "metadata": {
    "scrolled": true
   },
   "outputs": [],
   "source": [
    "#CNN NEW IMPLEMENTATION\n",
    "best_cnn_hp = load_best_hyperparameters(\"tuner_results/\" + motor_name + \"/Iteration\" + iteration + \"/cnn_bayes_tuner\", \"rul_cnn_bayes\")\n",
    "\n",
    "cnn_model, y_pred_cnn = train_and_evaluate_cnn(X, y, X_test, y_test, best_cnn_hp, build_cnn_model, 100)"
   ]
  },
  {
   "cell_type": "code",
   "execution_count": null,
   "id": "acae4954-5e3f-4b1c-b31a-83b32d833091",
   "metadata": {
    "scrolled": true
   },
   "outputs": [],
   "source": [
    "#DEEP CNN NEW IMPLEMENTATION\n",
    "best_deep_cnn_hp = load_best_hyperparameters(\"tuner_results/\" + motor_name + \"/Iteration\" + iteration + \"/deep_cnn_bayes_tuner\", \"rul_deep_cnn\")\n",
    "\n",
    "deep_cnn_model, y_pred_deep_cnn = train_and_evaluate_deep_cnn(X, y, X_test, y_test, best_deep_cnn_hp, build_deep_cnn, 100)"
   ]
  },
  {
   "cell_type": "code",
   "execution_count": null,
   "id": "657d4832-ac60-4088-88b2-860f31b94d1b",
   "metadata": {
    "scrolled": true
   },
   "outputs": [],
   "source": [
    "from evaluation import *\n",
    "predictions = {\n",
    "    \"rf\": y_pred_rf,\n",
    "    \"xgb\": y_pred_xgb,\n",
    "    \"svm\": y_pred_svm,\n",
    "    \"mlp\": y_pred_mlp,\n",
    "    \"lstm\": y_pred_lstm,\n",
    "    \"cnn\": y_pred_cnn,\n",
    "    \"Deep-CNN\": y_pred_deep_cnn\n",
    "}\n",
    "save_path = \"Plots/\" + motor_name + \"_PerfComp_It_\" + iteration\n",
    "plot_model_performance(y_test, predictions, save_path)"
   ]
  },
  {
   "cell_type": "code",
   "execution_count": null,
   "id": "c108ceed-bc08-4ca2-8682-7a268ed8e66c",
   "metadata": {},
   "outputs": [],
   "source": [
    "import os\n",
    "import pickle\n",
    "\n",
    "def save_predictions_dict(predictions_dict, save_path=\"saved_predictions/predictions.pkl\"):\n",
    "    os.makedirs(os.path.dirname(save_path), exist_ok=True)\n",
    "    with open(save_path, \"wb\") as f:\n",
    "        pickle.dump(predictions_dict, f)\n",
    "    print(f\"💾 Saved predictions dictionary to: {save_path}\")\n",
    "\n",
    "def load_predictions_dict(load_path):\n",
    "    with open(load_path, \"rb\") as f:\n",
    "        predictions_dict = pickle.load(f)\n",
    "    print(f\"📂 Loaded predictions dictionary from: {load_path}\")\n",
    "    return predictions_dict"
   ]
  },
  {
   "cell_type": "code",
   "execution_count": null,
   "id": "e5211f83-44ce-49ad-8631-34c059483f70",
   "metadata": {},
   "outputs": [],
   "source": [
    "save_predictions_dict(predictions, \"y_preds/\" + motor_name + \"/Iteration\" + iteration + \"_y_preds.pkl\")"
   ]
  },
  {
   "cell_type": "code",
   "execution_count": null,
   "id": "a2b8172c-6233-4272-9873-793f1609bb41",
   "metadata": {},
   "outputs": [],
   "source": [
    "# predictions_dict = load_predictions_dict(\"y_preds/\" + motor_name + \"/Iteration\" + iteration + \"_y_preds.pkl\")"
   ]
  },
  {
   "cell_type": "code",
   "execution_count": null,
   "id": "d10558b6-b359-446f-b185-3b15a9277064",
   "metadata": {},
   "outputs": [],
   "source": [
    "# save_path = \"Plots/\" + motor_name + \"_PerfCompNEW_It_\" + iteration\n",
    "\n",
    "# plot_model_performance(y_test, predictions, save_path)"
   ]
  },
  {
   "cell_type": "code",
   "execution_count": null,
   "id": "d3f39104-c8e7-43a5-97e0-1b0ad3dfca70",
   "metadata": {},
   "outputs": [],
   "source": []
  }
 ],
 "metadata": {
  "kernelspec": {
   "display_name": "Python 3 (ipykernel)",
   "language": "python",
   "name": "python3"
  },
  "language_info": {
   "codemirror_mode": {
    "name": "ipython",
    "version": 3
   },
   "file_extension": ".py",
   "mimetype": "text/x-python",
   "name": "python",
   "nbconvert_exporter": "python",
   "pygments_lexer": "ipython3",
   "version": "3.11.0"
  }
 },
 "nbformat": 4,
 "nbformat_minor": 5
}
